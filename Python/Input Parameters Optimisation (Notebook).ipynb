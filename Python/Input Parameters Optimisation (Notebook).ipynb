{
 "cells": [
  {
   "cell_type": "markdown",
   "metadata": {},
   "source": [
    "## Input Parameters Search and Optimisation"
   ]
  },
  {
   "cell_type": "markdown",
   "metadata": {},
   "source": [
    "This notebook searches for the best PEMFC input paramaters using the saved optimised models and presents the results."
   ]
  },
  {
   "cell_type": "markdown",
   "metadata": {},
   "source": [
    "### Libraries"
   ]
  },
  {
   "cell_type": "code",
   "execution_count": null,
   "metadata": {},
   "outputs": [],
   "source": [
    "from keras.models import load_model\n",
    "import optuna\n",
    "import numpy as np\n",
    "from IPython.display import clear_output"
   ]
  },
  {
   "cell_type": "markdown",
   "metadata": {},
   "source": [
    "### Load Models\n",
    "\n",
    "The optimised models loaded were saved using the 'Deep ANN (Notebook).ipynb' file."
   ]
  },
  {
   "cell_type": "code",
   "execution_count": null,
   "metadata": {},
   "outputs": [],
   "source": [
    "temp_model = load_model('models/temp_model_hyperband.keras')\n",
    "pressure_model = load_model('models/pressure_model_hyperband.keras')"
   ]
  },
  {
   "cell_type": "markdown",
   "metadata": {},
   "source": [
    "### Objective Function\n",
    "The objective function specifies the value to optimise, while implementing the following constraints:\n",
    "- Temperature to be between 55 to 60 degree Celcius\n",
    "- Pressure to be positive"
   ]
  },
  {
   "cell_type": "code",
   "execution_count": null,
   "metadata": {},
   "outputs": [],
   "source": [
    "def objective(trial):\n",
    "    # range of values to try for each input parameter\n",
    "    hc = trial.suggest_float('hc / mm', 0.6, 2.4)\n",
    "    wc = trial.suggest_float('wc / mm', 0.2, 1.8)\n",
    "    length = trial.suggest_float('length / mm', 12, 108)\n",
    "    Tamb = trial.suggest_float('Tamb / degC', 25, 31.6)\n",
    "    Q = trial.suggest_int('Q / Wm-2', 1272, 5040)\n",
    "    Uin = trial.suggest_float('Uin / ms-1', 0, 20)\n",
    "\n",
    "    # temperature and pressure prediction\n",
    "    temp = temp_model.predict([hc, wc, length, Tamb, Q, Uin], verbose=0)[0, 0]\n",
    "    pressure = pressure_model.predict([hc, wc, length, Tamb, Q, Uin], verbose=0)[0, 0]\n",
    "\n",
    "    # constraints\n",
    "    if 55 <= temp <= 60 and pressure >= 0:\n",
    "        return pressure\n",
    "    return np.Inf"
   ]
  },
  {
   "cell_type": "markdown",
   "metadata": {},
   "source": [
    "### Search\n",
    "\n",
    "Search is performed using the Tree-structured Parzen Estimator (TPE) algorithm. The search aims to minimise the objective function using 1000 trials."
   ]
  },
  {
   "cell_type": "code",
   "execution_count": null,
   "metadata": {},
   "outputs": [],
   "source": [
    "sampler = optuna.samplers.TPESampler() # Tree-structured Parzen Estimator\n",
    "study = optuna.create_study(direction = \"minimize\", sampler=sampler) # minimise objective function using sampler\n",
    "study.optimize(objective, n_trials=1000) # 1000 trials"
   ]
  },
  {
   "cell_type": "markdown",
   "metadata": {},
   "source": [
    "### Results"
   ]
  },
  {
   "cell_type": "markdown",
   "metadata": {},
   "source": [
    "This section presents the most optimised PEMFC input parameters found."
   ]
  },
  {
   "cell_type": "code",
   "execution_count": null,
   "metadata": {},
   "outputs": [],
   "source": [
    "# pressure prediction based on optimised parameters\n",
    "pressure = pressure_model.predict(list(study.best_params.values()), verbose=0)[0, 0]\n",
    "print(f'Lowest Pressure: {pressure} Pa')\n",
    "\n",
    "# temperature prediction based on optimised parameters\n",
    "temp = temp_model.predict(list(study.best_params.values()), verbose=0)[0, 0]\n",
    "print(f'Temperature: {temp} degC')\n",
    "\n",
    "# optimised parameters\n",
    "study.best_params"
   ]
  }
 ],
 "metadata": {
  "kernelspec": {
   "display_name": "Python 3",
   "language": "python",
   "name": "python3"
  },
  "language_info": {
   "codemirror_mode": {
    "name": "ipython",
    "version": 3
   },
   "file_extension": ".py",
   "mimetype": "text/x-python",
   "name": "python",
   "nbconvert_exporter": "python",
   "pygments_lexer": "ipython3",
   "version": "3.11.6"
  }
 },
 "nbformat": 4,
 "nbformat_minor": 2
}
